{
 "cells": [
  {
   "cell_type": "markdown",
   "id": "cc6854d1",
   "metadata": {},
   "source": [
    "All needed packages are listed in `requirements.txt`, meaning that missing packages will be downloaded."
   ]
  },
  {
   "cell_type": "code",
   "execution_count": null,
   "id": "eb1b29a1",
   "metadata": {},
   "outputs": [],
   "source": [
    "# Install needed packages\n",
    "\n",
    "!pip install -r requirements.txt"
   ]
  },
  {
   "cell_type": "code",
   "execution_count": 9,
   "id": "046d326c",
   "metadata": {},
   "outputs": [],
   "source": [
    "# Import libraries\n",
    "\n",
    "import numpy as np\n",
    "import random"
   ]
  },
  {
   "cell_type": "code",
   "execution_count": 14,
   "id": "8ab41e13",
   "metadata": {},
   "outputs": [
    {
     "name": "stdout",
     "output_type": "stream",
     "text": [
      "[INFO] resize directories already existed...\n",
      "[INFO] aumentate directories already existed...\n"
     ]
    }
   ],
   "source": [
    "def check_dirs(folder_name):\n",
    "    dir_name = folder_name+'_imgs'\n",
    "    if os.path.exists(dir_name):\n",
    "        print('[INFO] ' + folder_name + ' directories already existed...')\n",
    "        pass\n",
    "    else:\n",
    "        os.mkdir(dir_name)\n",
    "        os.mkdir(dir_name+'/ok')\n",
    "        os.mkdir(dir_name+'/ng')\n",
    "        print('[INFO] '+ folder_name + ' directories have been created...')\n",
    "\n",
    "check_dirs('resize')\n"
   ]
  },
  {
   "cell_type": "code",
   "execution_count": null,
   "id": "5e7259a1",
   "metadata": {},
   "outputs": [],
   "source": [
    "# Necessary import statements\n",
    "import Augmentor\n",
    "import cv2\n",
    "import os\n",
    "\n",
    "# Set variables and directories\n",
    "DATADIR = \"Project_Images\"      # Directoy where images were inited stored\n",
    "RESIZE_DIR = \"resize_imgs\"     # Directory where resized images will be stored\n",
    "AUGMENT_DIR = \"augmente_imgs\"\n",
    "CATEGORIES = [\"ng\", \"ok\"]       \n",
    "IMG_SIZE = 299                  # Standard resolution\n",
    "training_data = []\n",
    "\n",
    "# Functions\n",
    "\n",
    "# Define Region of interest\n",
    "def roi(image):\n",
    "    gray = cv2.cvtColor(image, cv2.COLOR_BGR2GRAY)  \n",
    "    thresh = cv2.threshold(gray, 0, 255, cv2.THRESH_OTSU + cv2.THRESH_BINARY)[1]\n",
    "                \n",
    "    # Find contour and sort by contour area\n",
    "    cnts = cv2.findContours(thresh, cv2.RETR_EXTERNAL, cv2.CHAIN_APPROX_SIMPLE)\n",
    "    cnts = cnts[0] if len(cnts) == 2 else cnts[1]\n",
    "    cnts = sorted(cnts, key=cv2.contourArea, reverse=True)\n",
    "    # Find bounding box and extract ROI\n",
    "    for c in cnts:\n",
    "        x,y,w,h = cv2.boundingRect(c)\n",
    "        ROI = image[y:y+h, x:x+w]\n",
    "        break                \n",
    "    new_array = cv2.resize(ROI, (IMG_SIZE, IMG_SIZE),interpolation = cv2.INTER_AREA)\n",
    "    return new_array\n",
    "\n",
    "# Read img, crop and save to new path\n",
    "def save_cropped_image():\n",
    "    for category in CATEGORIES:\n",
    "        path = os.path.join(DATADIR, category)\n",
    "        class_num = CATEGORIES.index(category)\n",
    "        for img in os.listdir(path):\n",
    "            try:\n",
    "                img_array = cv2.imread(os.path.join(path,img))  # read image\n",
    "                \n",
    "                new_array = roi(img_array)\n",
    "                new_path = RESIZE_DIR+\"/\"+category\n",
    "                new_img = \"ROI_\"+img\n",
    "                resize_path = os.path.join(new_path, new_img)\n",
    "                cv2.imwrite(resize_path, new_array)\n",
    "                training_data.append([new_array, class_num])\n",
    "                print(\"[INFO] New image has been saved: \" + new_img)\n",
    "            except Exception as e:\n",
    "                print(\"[WARN] \"+ str(e))\n",
    "                pass\n",
    "\n",
    "# Implement data agumentation\n",
    "def data_augmentation():\n",
    "    for category in CATEGORIES:\n",
    "        path = Augmentor.Pipeline(os.path.join(RESIZE_DIR, category))\n",
    "        # The probability parameter controls how often the operation is applied.\n",
    "        path.rotate_random_90(probability=0.6)\n",
    "        path.random_brightness(probability=0.6,min_factor=0.2,max_factor=1.5)\n",
    "        ## duda - es necesario?\n",
    "        # path.skew(probability=0.4,magnitude=0.5)\n",
    "        ##\n",
    "        print(\"[INFO] Data augmentation was applied to \"+ category)\n",
    "        path.sample(500)\n",
    "\n",
    "def create_training_data():\n",
    "    print(\"[INFO] Creating training data\")\n",
    "\n",
    "\n",
    "# Process to create training data\n",
    "#save_cropped_image()\n",
    "#data_augmentation()\n",
    "create_training_data()"
   ]
  },
  {
   "cell_type": "markdown",
   "id": "32b67fba",
   "metadata": {},
   "source": [
    "- Se genera ROI\n",
    "- guarda en directorio para resized img en las categorias correspondientes"
   ]
  },
  {
   "cell_type": "code",
   "execution_count": 3,
   "id": "9f07d18d",
   "metadata": {},
   "outputs": [],
   "source": [
    "random.shuffle(training_data)"
   ]
  },
  {
   "cell_type": "code",
   "execution_count": 4,
   "id": "d9e160fc",
   "metadata": {},
   "outputs": [],
   "source": [
    "X = []\n",
    "y = []\n",
    "\n",
    "for features, label in training_data:\n",
    "    X.append(features)\n",
    "    y.append(label)\n",
    "    \n",
    "X = np.array(X).reshape(-1, IMG_SIZE, IMG_SIZE, 1)\n",
    "y = np.array(y)"
   ]
  },
  {
   "cell_type": "code",
   "execution_count": 5,
   "id": "b8c9676a",
   "metadata": {},
   "outputs": [],
   "source": [
    "import pickle\n",
    "pickle_out = open(\"X_2.pickle\",\"wb\")\n",
    "pickle.dump(X, pickle_out)\n",
    "pickle_out.close()\n",
    "pickle_out = open(\"y_2.pickle\",\"wb\")\n",
    "pickle.dump(y, pickle_out)\n",
    "pickle_out.close()"
   ]
  }
 ],
 "metadata": {
  "kernelspec": {
   "display_name": "Python 3 (ipykernel)",
   "language": "python",
   "name": "python3"
  },
  "language_info": {
   "codemirror_mode": {
    "name": "ipython",
    "version": 3
   },
   "file_extension": ".py",
   "mimetype": "text/x-python",
   "name": "python",
   "nbconvert_exporter": "python",
   "pygments_lexer": "ipython3",
   "version": "3.9.1"
  }
 },
 "nbformat": 4,
 "nbformat_minor": 5
}
