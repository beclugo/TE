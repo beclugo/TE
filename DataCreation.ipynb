{
 "cells": [
  {
   "cell_type": "code",
   "execution_count": 8,
   "id": "8ab41e13",
   "metadata": {},
   "outputs": [
    {
     "name": "stdout",
     "output_type": "stream",
     "text": [
      "[INFO] Directories already existed...\n"
     ]
    }
   ],
   "source": [
    "import numpy as np\n",
    "import os\n",
    "import cv2\n",
    "import random\n",
    "\n",
    "DATADIR = \"Project_Images\"\n",
    "CATEGORIES = [\"ng\", \"ok\"]\n",
    "IMG_SIZE = 299\n",
    "RESIZE_DIR = \"resized_imgs\"\n",
    "\n",
    "if os.path.exists(RESIZE_DIR):\n",
    "    print(\"[INFO] Directories already existed...\")\n",
    "else:\n",
    "    os.mkdir(RESIZE_DIR)\n",
    "    os.mkdir(RESIZE_DIR+'/ok')\n",
    "    os.mkdir(RESIZE_DIR+'/ng')\n",
    "    print(\"[INFO] Directories have been created...\")"
   ]
  },
  {
   "cell_type": "code",
   "execution_count": null,
   "id": "5e7259a1",
   "metadata": {},
   "outputs": [],
   "source": [
    "training_data = []\n",
    "def roi(image):\n",
    "    gray = cv2.cvtColor(image, cv2.COLOR_BGR2GRAY)  \n",
    "    thresh = cv2.threshold(gray, 0, 255, cv2.THRESH_OTSU + cv2.THRESH_BINARY)[1]\n",
    "                \n",
    "    # Find contour and sort by contour area\n",
    "    cnts = cv2.findContours(thresh, cv2.RETR_EXTERNAL, cv2.CHAIN_APPROX_SIMPLE)\n",
    "    cnts = cnts[0] if len(cnts) == 2 else cnts[1]\n",
    "    cnts = sorted(cnts, key=cv2.contourArea, reverse=True)\n",
    "    # Find bounding box and extract ROI\n",
    "    for c in cnts:\n",
    "        x,y,w,h = cv2.boundingRect(c)\n",
    "        ROI = image[y:y+h, x:x+w]\n",
    "        break                \n",
    "    new_array = cv2.resize(ROI, (IMG_SIZE, IMG_SIZE),interpolation = cv2.INTER_AREA)\n",
    "    return new_array\n",
    "\n",
    "def create_training_data():\n",
    "    for category in CATEGORIES:\n",
    "        path = os.path.join(DATADIR, category)\n",
    "        class_num = CATEGORIES.index(category)\n",
    "        for img in os.listdir(path):\n",
    "            try:\n",
    "                img_array = cv2.imread(os.path.join(path,img))\n",
    "                new_array = roi(img_array)\n",
    "\n",
    "                new_path = RESIZE_DIR+\"/\"+category\n",
    "                new_img = \"ROI_\"+img\n",
    "                resize_path = os.path.join(new_path, new_img)\n",
    "                cv2.imwrite(resize_path, new_array)\n",
    "                training_data.append([new_array, class_num])\n",
    "                print(\"[INFO] New image has been saved: \" + new_img)\n",
    "            except Exception as e:\n",
    "                print(\"[WARN] \"+ str(e))\n",
    "                pass\n",
    "create_training_data()"
   ]
  },
  {
   "cell_type": "markdown",
   "id": "32b67fba",
   "metadata": {},
   "source": [
    "- Se genera ROI\n",
    "- guarda en directorio para resized img en las categorias correspondientes\n",
    "- logging info"
   ]
  },
  {
   "cell_type": "code",
   "execution_count": 3,
   "id": "9f07d18d",
   "metadata": {},
   "outputs": [],
   "source": [
    "random.shuffle(training_data)"
   ]
  },
  {
   "cell_type": "code",
   "execution_count": 4,
   "id": "d9e160fc",
   "metadata": {},
   "outputs": [],
   "source": [
    "X = []\n",
    "y = []\n",
    "\n",
    "for features, label in training_data:\n",
    "    X.append(features)\n",
    "    y.append(label)\n",
    "    \n",
    "X = np.array(X).reshape(-1, IMG_SIZE, IMG_SIZE, 1)\n",
    "y = np.array(y)"
   ]
  },
  {
   "cell_type": "code",
   "execution_count": 5,
   "id": "b8c9676a",
   "metadata": {},
   "outputs": [],
   "source": [
    "import pickle\n",
    "pickle_out = open(\"X_2.pickle\",\"wb\")\n",
    "pickle.dump(X, pickle_out)\n",
    "pickle_out.close()\n",
    "pickle_out = open(\"y_2.pickle\",\"wb\")\n",
    "pickle.dump(y, pickle_out)\n",
    "pickle_out.close()"
   ]
  }
 ],
 "metadata": {
  "kernelspec": {
   "display_name": "Python 3 (ipykernel)",
   "language": "python",
   "name": "python3"
  },
  "language_info": {
   "codemirror_mode": {
    "name": "ipython",
    "version": 3
   },
   "file_extension": ".py",
   "mimetype": "text/x-python",
   "name": "python",
   "nbconvert_exporter": "python",
   "pygments_lexer": "ipython3",
   "version": "3.9.1"
  }
 },
 "nbformat": 4,
 "nbformat_minor": 5
}
