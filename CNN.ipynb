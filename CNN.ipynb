{
 "cells": [
  {
   "cell_type": "code",
   "execution_count": 12,
   "id": "765e1937",
   "metadata": {},
   "outputs": [
    {
     "name": "stdout",
     "output_type": "stream",
     "text": [
      "Epoch 1/20\n",
      "12/12 [==============================] - 9s 711ms/step - loss: 0.6880 - accuracy: 0.5759 - val_loss: 0.7444 - val_accuracy: 0.5161\n",
      "Epoch 2/20\n",
      "12/12 [==============================] - 9s 707ms/step - loss: 0.6560 - accuracy: 0.6092 - val_loss: 0.6740 - val_accuracy: 0.5726\n",
      "Epoch 3/20\n",
      "12/12 [==============================] - 9s 713ms/step - loss: 0.6243 - accuracy: 0.6550 - val_loss: 0.6144 - val_accuracy: 0.6774\n",
      "Epoch 4/20\n",
      "12/12 [==============================] - 8s 705ms/step - loss: 0.5689 - accuracy: 0.6963 - val_loss: 0.8996 - val_accuracy: 0.5484\n",
      "Epoch 5/20\n",
      "12/12 [==============================] - 9s 719ms/step - loss: 0.5913 - accuracy: 0.6828 - val_loss: 0.6392 - val_accuracy: 0.6613\n",
      "Epoch 6/20\n",
      "12/12 [==============================] - 9s 737ms/step - loss: 0.5079 - accuracy: 0.7844 - val_loss: 0.7353 - val_accuracy: 0.5565\n",
      "Epoch 7/20\n",
      "12/12 [==============================] - 9s 724ms/step - loss: 0.4834 - accuracy: 0.7583 - val_loss: 0.6088 - val_accuracy: 0.7097\n",
      "Epoch 8/20\n",
      "12/12 [==============================] - 9s 706ms/step - loss: 0.4047 - accuracy: 0.8338 - val_loss: 0.6989 - val_accuracy: 0.6613\n",
      "Epoch 9/20\n",
      "12/12 [==============================] - 9s 710ms/step - loss: 0.3799 - accuracy: 0.8329 - val_loss: 0.5724 - val_accuracy: 0.7661\n",
      "Epoch 10/20\n",
      "12/12 [==============================] - 9s 719ms/step - loss: 0.3286 - accuracy: 0.8832 - val_loss: 0.4971 - val_accuracy: 0.7823\n",
      "Epoch 11/20\n",
      "12/12 [==============================] - 9s 713ms/step - loss: 0.2708 - accuracy: 0.8904 - val_loss: 0.5883 - val_accuracy: 0.7661\n",
      "Epoch 12/20\n",
      "12/12 [==============================] - 9s 721ms/step - loss: 0.2108 - accuracy: 0.9407 - val_loss: 0.6317 - val_accuracy: 0.6935\n",
      "Epoch 13/20\n",
      "12/12 [==============================] - 9s 720ms/step - loss: 0.2439 - accuracy: 0.8877 - val_loss: 0.6702 - val_accuracy: 0.7258\n",
      "Epoch 14/20\n",
      "12/12 [==============================] - 9s 717ms/step - loss: 0.1662 - accuracy: 0.9605 - val_loss: 0.5860 - val_accuracy: 0.7823\n",
      "Epoch 15/20\n",
      "12/12 [==============================] - 9s 720ms/step - loss: 0.1277 - accuracy: 0.9623 - val_loss: 0.6586 - val_accuracy: 0.7661\n",
      "Epoch 16/20\n",
      "12/12 [==============================] - 9s 729ms/step - loss: 0.1001 - accuracy: 0.9793 - val_loss: 0.7296 - val_accuracy: 0.7661\n",
      "Epoch 17/20\n",
      "12/12 [==============================] - 9s 717ms/step - loss: 0.1103 - accuracy: 0.9730 - val_loss: 0.6148 - val_accuracy: 0.7581\n",
      "Epoch 18/20\n",
      "12/12 [==============================] - 9s 735ms/step - loss: 0.0682 - accuracy: 0.9865 - val_loss: 0.6917 - val_accuracy: 0.7823\n",
      "Epoch 19/20\n",
      "12/12 [==============================] - 9s 716ms/step - loss: 0.0630 - accuracy: 0.9892 - val_loss: 0.8443 - val_accuracy: 0.7500\n",
      "Epoch 20/20\n",
      "12/12 [==============================] - 9s 723ms/step - loss: 0.0456 - accuracy: 0.9901 - val_loss: 0.9199 - val_accuracy: 0.7581\n"
     ]
    },
    {
     "data": {
      "text/plain": [
       "<keras.callbacks.History at 0x7fc94b7176a0>"
      ]
     },
     "execution_count": 12,
     "metadata": {},
     "output_type": "execute_result"
    }
   ],
   "source": [
    "import tensorflow as tf\n",
    "from tensorflow.keras.models import Sequential\n",
    "from tensorflow.keras.layers import Dense, Dropout, Activation, Flatten, Conv2D, MaxPooling2D\n",
    "import pickle\n",
    "import numpy as np\n",
    "\n",
    "X = pickle.load(open(\"X_2.pickle\", \"rb\"))\n",
    "y = pickle.load(open(\"y_2.pickle\", \"rb\"))\n",
    "\n",
    "X = X/255\n",
    "\n",
    "model = Sequential()\n",
    "model.add(Conv2D(64, (3,3), input_shape = X.shape[1:]))\n",
    "model.add(Activation(\"relu\"))\n",
    "model.add(MaxPooling2D(pool_size=(2,2)))\n",
    "\n",
    "model.add(Conv2D(64, (3,3)))\n",
    "model.add(Activation(\"relu\"))\n",
    "model.add(MaxPooling2D(pool_size=(2,2)))\n",
    "\n",
    "model.add(Flatten())\n",
    "model.add(Dense(64))\n",
    "model.add(Activation(\"relu\"))\n",
    "\n",
    "model.add(Dense(1))\n",
    "model.add(Activation('sigmoid'))\n",
    "\n",
    "model.compile(loss=\"binary_crossentropy\",\n",
    "              optimizer=\"adam\", \n",
    "              metrics=['accuracy'])\n",
    "\n",
    "model.fit(X, y, batch_size=100, epochs=20, validation_split=.1)"
   ]
  },
  {
   "cell_type": "code",
   "execution_count": 13,
   "id": "636d9d00",
   "metadata": {},
   "outputs": [],
   "source": [
    "model.save('te_cnn_model_v2', save_format=\"h5\")"
   ]
  },
  {
   "cell_type": "code",
   "execution_count": null,
   "id": "a20404ec",
   "metadata": {},
   "outputs": [],
   "source": []
  }
 ],
 "metadata": {
  "kernelspec": {
   "display_name": "Python 3 (ipykernel)",
   "language": "python",
   "name": "python3"
  },
  "language_info": {
   "codemirror_mode": {
    "name": "ipython",
    "version": 3
   },
   "file_extension": ".py",
   "mimetype": "text/x-python",
   "name": "python",
   "nbconvert_exporter": "python",
   "pygments_lexer": "ipython3",
   "version": "3.9.0"
  }
 },
 "nbformat": 4,
 "nbformat_minor": 5
}
