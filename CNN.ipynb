{
 "cells": [
  {
   "cell_type": "code",
   "execution_count": 1,
   "id": "765e1937",
   "metadata": {},
   "outputs": [
    {
     "name": "stdout",
     "output_type": "stream",
     "text": [
      "WARNING:tensorflow:From C:\\Users\\Cristina\\AppData\\Local\\Programs\\Python\\Python36\\lib\\site-packages\\tensorflow\\python\\ops\\init_ops.py:1251: calling VarianceScaling.__init__ (from tensorflow.python.ops.init_ops) with dtype is deprecated and will be removed in a future version.\n",
      "Instructions for updating:\n",
      "Call initializer instance with the dtype argument instead of passing it to the constructor\n",
      "WARNING:tensorflow:From C:\\Users\\Cristina\\AppData\\Local\\Programs\\Python\\Python36\\lib\\site-packages\\tensorflow\\python\\ops\\nn_impl.py:180: add_dispatch_support.<locals>.wrapper (from tensorflow.python.ops.array_ops) is deprecated and will be removed in a future version.\n",
      "Instructions for updating:\n",
      "Use tf.where in 2.0, which has the same broadcast rule as np.where\n",
      "Train on 900 samples, validate on 100 samples\n",
      "Epoch 1/20\n",
      "900/900 [==============================] - 55s 61ms/sample - loss: 2.1371 - acc: 0.5033 - val_loss: 0.6684 - val_acc: 0.4900\n",
      "Epoch 2/20\n",
      "900/900 [==============================] - 50s 56ms/sample - loss: 0.4993 - acc: 0.7867 - val_loss: 0.4070 - val_acc: 0.8000\n",
      "Epoch 3/20\n",
      "900/900 [==============================] - 50s 56ms/sample - loss: 0.2344 - acc: 0.9222 - val_loss: 0.1640 - val_acc: 0.9500\n",
      "Epoch 4/20\n",
      "900/900 [==============================] - 50s 56ms/sample - loss: 0.0870 - acc: 0.9711 - val_loss: 0.1048 - val_acc: 0.9600\n",
      "Epoch 5/20\n",
      "900/900 [==============================] - 50s 56ms/sample - loss: 0.0403 - acc: 0.9911 - val_loss: 0.0618 - val_acc: 0.9800\n",
      "Epoch 6/20\n",
      "900/900 [==============================] - 53s 58ms/sample - loss: 0.0144 - acc: 0.9978 - val_loss: 0.0256 - val_acc: 0.9900\n",
      "Epoch 7/20\n",
      "900/900 [==============================] - 50s 56ms/sample - loss: 0.0041 - acc: 1.0000 - val_loss: 0.0240 - val_acc: 0.9800\n",
      "Epoch 8/20\n",
      "900/900 [==============================] - 49s 55ms/sample - loss: 0.0028 - acc: 1.0000 - val_loss: 0.0252 - val_acc: 0.9900\n",
      "Epoch 9/20\n",
      "900/900 [==============================] - 51s 57ms/sample - loss: 0.0013 - acc: 1.0000 - val_loss: 0.0177 - val_acc: 0.9900\n",
      "Epoch 10/20\n",
      "900/900 [==============================] - 51s 57ms/sample - loss: 8.7048e-04 - acc: 1.0000 - val_loss: 0.0195 - val_acc: 0.9900\n",
      "Epoch 11/20\n",
      "900/900 [==============================] - 51s 56ms/sample - loss: 6.4757e-04 - acc: 1.0000 - val_loss: 0.0212 - val_acc: 0.9900\n",
      "Epoch 12/20\n",
      "900/900 [==============================] - 50s 55ms/sample - loss: 4.7121e-04 - acc: 1.0000 - val_loss: 0.0203 - val_acc: 0.9900\n",
      "Epoch 13/20\n",
      "900/900 [==============================] - 49s 55ms/sample - loss: 3.9012e-04 - acc: 1.0000 - val_loss: 0.0233 - val_acc: 0.9900\n",
      "Epoch 14/20\n",
      "900/900 [==============================] - 50s 55ms/sample - loss: 3.0899e-04 - acc: 1.0000 - val_loss: 0.0215 - val_acc: 0.9900\n",
      "Epoch 15/20\n",
      "900/900 [==============================] - 50s 55ms/sample - loss: 2.5813e-04 - acc: 1.0000 - val_loss: 0.0225 - val_acc: 0.9900\n",
      "Epoch 16/20\n",
      "900/900 [==============================] - 50s 56ms/sample - loss: 2.3343e-04 - acc: 1.0000 - val_loss: 0.0198 - val_acc: 0.9900\n",
      "Epoch 17/20\n",
      "900/900 [==============================] - 50s 55ms/sample - loss: 1.9337e-04 - acc: 1.0000 - val_loss: 0.0217 - val_acc: 0.9900\n",
      "Epoch 18/20\n",
      "900/900 [==============================] - 50s 55ms/sample - loss: 1.5489e-04 - acc: 1.0000 - val_loss: 0.0204 - val_acc: 0.9900\n",
      "Epoch 19/20\n",
      "900/900 [==============================] - 50s 55ms/sample - loss: 1.2745e-04 - acc: 1.0000 - val_loss: 0.0211 - val_acc: 0.9900\n",
      "Epoch 20/20\n",
      "900/900 [==============================] - 49s 55ms/sample - loss: 1.0320e-04 - acc: 1.0000 - val_loss: 0.0222 - val_acc: 0.9900\n"
     ]
    },
    {
     "data": {
      "text/plain": [
       "<tensorflow.python.keras.callbacks.History at 0x1c494cfcc18>"
      ]
     },
     "execution_count": 1,
     "metadata": {},
     "output_type": "execute_result"
    }
   ],
   "source": [
    "import tensorflow as tf\n",
    "from tensorflow.keras.models import Sequential\n",
    "from tensorflow.keras.layers import Dense, Dropout, Activation, Flatten, Conv2D, MaxPooling2D\n",
    "import pickle\n",
    "\n",
    "X = pickle.load(open(\"X_2.pickle\", \"rb\"))\n",
    "y = pickle.load(open(\"y_2.pickle\", \"rb\"))\n",
    "\n",
    "X = X/255\n",
    "\n",
    "model = Sequential()\n",
    "model.add(Conv2D(64, (3,3), input_shape = X.shape[1:]))\n",
    "model.add(Activation(\"relu\"))\n",
    "model.add(MaxPooling2D(pool_size=(2,2)))\n",
    "\n",
    "model.add(Conv2D(64, (3,3)))\n",
    "model.add(Activation(\"relu\"))\n",
    "model.add(MaxPooling2D(pool_size=(2,2)))\n",
    "\n",
    "model.add(Flatten())\n",
    "model.add(Dense(64))\n",
    "model.add(Activation(\"relu\"))\n",
    "\n",
    "model.add(Dense(1))\n",
    "model.add(Activation('sigmoid'))\n",
    "\n",
    "model.compile(loss=\"binary_crossentropy\",\n",
    "              optimizer=\"adam\", \n",
    "              metrics=['accuracy'])\n",
    "\n",
    "model.fit(X, y, batch_size=100, epochs=20, validation_split=.1)"
   ]
  },
  {
   "cell_type": "code",
   "execution_count": 6,
   "id": "636d9d00",
   "metadata": {},
   "outputs": [],
   "source": [
    "import os\n",
    "os.makedirs('./model', exist_ok=True)\n",
    "model.save('./model/te_cnn_model_v3.h5')"
   ]
  },
  {
   "cell_type": "markdown",
   "id": "fcd4e287",
   "metadata": {},
   "source": [
    "CONVERT FROM .h5 to .pb"
   ]
  },
  {
   "cell_type": "code",
   "execution_count": 7,
   "id": "a08b21b9",
   "metadata": {},
   "outputs": [
    {
     "name": "stderr",
     "output_type": "stream",
     "text": [
      "Using TensorFlow backend.\n"
     ]
    }
   ],
   "source": [
    "from keras import backend as K\n",
    "# This line must be executed before loading Keras model.\n",
    "K.set_learning_phase(0)"
   ]
  },
  {
   "cell_type": "code",
   "execution_count": 8,
   "id": "2efe2bf7",
   "metadata": {},
   "outputs": [
    {
     "name": "stdout",
     "output_type": "stream",
     "text": [
      "WARNING:tensorflow:From C:\\Users\\Cristina\\AppData\\Local\\Programs\\Python\\Python36\\lib\\site-packages\\tensorflow\\python\\ops\\init_ops.py:97: calling GlorotUniform.__init__ (from tensorflow.python.ops.init_ops) with dtype is deprecated and will be removed in a future version.\n",
      "Instructions for updating:\n",
      "Call initializer instance with the dtype argument instead of passing it to the constructor\n",
      "WARNING:tensorflow:From C:\\Users\\Cristina\\AppData\\Local\\Programs\\Python\\Python36\\lib\\site-packages\\tensorflow\\python\\ops\\init_ops.py:97: calling Zeros.__init__ (from tensorflow.python.ops.init_ops) with dtype is deprecated and will be removed in a future version.\n",
      "Instructions for updating:\n",
      "Call initializer instance with the dtype argument instead of passing it to the constructor\n"
     ]
    }
   ],
   "source": [
    "import tensorflow as tf \n",
    "model = tf.keras.models.load_model('./model/te_cnn_model_v3.h5')"
   ]
  },
  {
   "cell_type": "code",
   "execution_count": 9,
   "id": "11cd647f",
   "metadata": {},
   "outputs": [
    {
     "name": "stdout",
     "output_type": "stream",
     "text": [
      "Model: \"sequential\"\n",
      "_________________________________________________________________\n",
      "Layer (type)                 Output Shape              Param #   \n",
      "=================================================================\n",
      "conv2d (Conv2D)              (None, 297, 297, 64)      640       \n",
      "_________________________________________________________________\n",
      "activation (Activation)      (None, 297, 297, 64)      0         \n",
      "_________________________________________________________________\n",
      "max_pooling2d (MaxPooling2D) (None, 148, 148, 64)      0         \n",
      "_________________________________________________________________\n",
      "conv2d_1 (Conv2D)            (None, 146, 146, 64)      36928     \n",
      "_________________________________________________________________\n",
      "activation_1 (Activation)    (None, 146, 146, 64)      0         \n",
      "_________________________________________________________________\n",
      "max_pooling2d_1 (MaxPooling2 (None, 73, 73, 64)        0         \n",
      "_________________________________________________________________\n",
      "flatten (Flatten)            (None, 341056)            0         \n",
      "_________________________________________________________________\n",
      "dense (Dense)                (None, 64)                21827648  \n",
      "_________________________________________________________________\n",
      "activation_2 (Activation)    (None, 64)                0         \n",
      "_________________________________________________________________\n",
      "dense_1 (Dense)              (None, 1)                 65        \n",
      "_________________________________________________________________\n",
      "activation_3 (Activation)    (None, 1)                 0         \n",
      "=================================================================\n",
      "Total params: 21,865,281\n",
      "Trainable params: 21,865,281\n",
      "Non-trainable params: 0\n",
      "_________________________________________________________________\n"
     ]
    }
   ],
   "source": [
    "model.summary()"
   ]
  },
  {
   "cell_type": "code",
   "execution_count": 10,
   "id": "8243d717",
   "metadata": {},
   "outputs": [],
   "source": [
    "def freeze_session(session, keep_var_names=None, output_names=None, clear_devices=True):\n",
    "    from tensorflow.python.framework.graph_util import convert_variables_to_constants\n",
    "    graph = session.graph\n",
    "    with graph.as_default():\n",
    "        freeze_var_names = list(set(v.op.name for v in tf.global_variables()).difference(keep_var_names or []))\n",
    "        output_names = output_names or []\n",
    "        output_names += [v.op.name for v in tf.global_variables()]\n",
    "        # Graph -> GraphDef ProtoBuf\n",
    "        input_graph_def = graph.as_graph_def()\n",
    "        if clear_devices:\n",
    "            for node in input_graph_def.node:\n",
    "                node.device = \"\"\n",
    "        frozen_graph = convert_variables_to_constants(session, input_graph_def,\n",
    "                                                      output_names, freeze_var_names)\n",
    "        return frozen_graph"
   ]
  },
  {
   "cell_type": "code",
   "execution_count": 11,
   "id": "39383e40",
   "metadata": {},
   "outputs": [
    {
     "name": "stdout",
     "output_type": "stream",
     "text": [
      "WARNING:tensorflow:From <ipython-input-10-66f248686223>:28: convert_variables_to_constants (from tensorflow.python.framework.graph_util_impl) is deprecated and will be removed in a future version.\n",
      "Instructions for updating:\n",
      "Use `tf.compat.v1.graph_util.convert_variables_to_constants`\n",
      "WARNING:tensorflow:From C:\\Users\\Cristina\\AppData\\Local\\Programs\\Python\\Python36\\lib\\site-packages\\tensorflow\\python\\framework\\graph_util_impl.py:270: extract_sub_graph (from tensorflow.python.framework.graph_util_impl) is deprecated and will be removed in a future version.\n",
      "Instructions for updating:\n",
      "Use `tf.compat.v1.graph_util.extract_sub_graph`\n",
      "INFO:tensorflow:Froze 58 variables.\n",
      "INFO:tensorflow:Converted 58 variables to const ops.\n"
     ]
    }
   ],
   "source": [
    "from keras import backend as K\n",
    "import tensorflow as tf\n",
    "\n",
    "frozen_graph = freeze_session(K.get_session(),\n",
    "                              output_names=[out.op.name for out in model.outputs])"
   ]
  },
  {
   "cell_type": "code",
   "execution_count": 12,
   "id": "7c32d8ee",
   "metadata": {},
   "outputs": [
    {
     "data": {
      "text/plain": [
       "'model\\\\te_cnn_model_V3.pb'"
      ]
     },
     "execution_count": 12,
     "metadata": {},
     "output_type": "execute_result"
    }
   ],
   "source": [
    "tf.train.write_graph(frozen_graph, \"model\", \"te_cnn_model_V3.pb\", as_text=False)"
   ]
  }
 ],
 "metadata": {
  "kernelspec": {
   "display_name": "Python 3 (ipykernel)",
   "language": "python",
   "name": "python3"
  },
  "language_info": {
   "codemirror_mode": {
    "name": "ipython",
    "version": 3
   },
   "file_extension": ".py",
   "mimetype": "text/x-python",
   "name": "python",
   "nbconvert_exporter": "python",
   "pygments_lexer": "ipython3",
   "version": "3.6.2"
  }
 },
 "nbformat": 4,
 "nbformat_minor": 5
}
